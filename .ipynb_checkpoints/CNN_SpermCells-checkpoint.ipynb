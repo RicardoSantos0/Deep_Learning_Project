{
 "cells": [
  {
   "cell_type": "markdown",
   "metadata": {},
   "source": [
    "# Deep Learning Project\n",
    "###### The current project relies on using CNNs in order to process sperm data. \n",
    "\n",
    "The goal is to develop a classifier able to identify different morphologies of head spearm cells.\n",
    "\n",
    "\n"
   ]
  },
  {
   "cell_type": "markdown",
   "metadata": {},
   "source": [
    "#### CONTEXT :\n",
    "\n",
    "Due to our background in the areas of biology and health, it was in our interest to use this project to develop our knowledge of neural network, in microscopic images.\n",
    "The chosen theme is a classification problem taking into account the morphology of the sperm cell heads.\n",
    "\n",
    " #### There are two datasets available, which we have chosen to aggregate into one.\n",
    "\n",
    "- SCIAN-MorphoSpermGS  - https://cimt.uchile.cl/gold10/ -  with 1132 image, each image has 35 x 35 pixels and has been classified by 3 experts. We will use majority vote result as target. \n",
    "\n",
    "\n",
    "- Human Sperm head Morphology dataset – HuSHeM- https://easy.dans.knaw.nl/ui/datasets/id/easy-dataset:77214/tab/2 -  with 725 images were taken, each image has 576×720 pixels and have the respective classification"
   ]
  },
  {
   "cell_type": "markdown",
   "metadata": {},
   "source": [
    "<h3><center>  The heads of sperm cells will have the following classification:</center></h3>"
   ]
  },
  {
   "cell_type": "markdown",
   "metadata": {},
   "source": [
    "\n",
    "\n",
    "![Title](Heads.png)\n",
    "\n",
    "\n",
    "* We don't include the \"small\" class ! \n",
    "\n",
    "Ref: https://doi.org/10.1016/j.compbiomed.2019.103342"
   ]
  },
  {
   "cell_type": "markdown",
   "metadata": {},
   "source": [
    "-> The process of adapting the data for use on CNN for reasons of operating system compatibility has been removed. But they can be found in [this document.][mylink]\n",
    "\n",
    "[mylink]: DL_Project_LoadImg.html"
   ]
  },
  {
   "cell_type": "markdown",
   "metadata": {},
   "source": [
    "###### In this pipeline, 4 models were developed:\n",
    "\n",
    "- The first model was produced by us, based on heuristics.\n",
    "- The second model was developed based on the Alex Net network architecture\n",
    "- The third model was based on the Resnet50 model.\n",
    "- The last model was based on an Efficient Net which, according to the current literature, has very promising results."
   ]
  },
  {
   "cell_type": "code",
   "execution_count": 66,
   "metadata": {},
   "outputs": [],
   "source": [
    "\n",
    "#base libraries\n",
    "import numpy as np\n",
    "import pandas as pd\n",
    "import matplotlib.pyplot as plt\n",
    "import seaborn as sns\n",
    "import random\n",
    "\n",
    "import matplotlib.image as mpimg\n",
    "%matplotlib inline\n",
    "\n",
    "from timeit import default_timer as timer\n",
    "\n",
    "\n",
    "\n",
    "#image manipulation packages\n",
    "import cv2\n",
    "import os\n",
    "from tqdm import tqdm\n",
    "from glob import glob\n",
    "from sklearn.metrics import confusion_matrix,classification_report\n",
    "\n",
    "\n",
    "#Classification\n",
    "from sklearn.metrics import classification_report, confusion_matrix, multilabel_confusion_matrix\n",
    "\n",
    "sns.set()\n",
    "\n",
    "#import keras\n",
    "from tensorflow import keras\n",
    "import glob\n",
    "import cv2\n",
    "import shutil\n",
    "import random\n",
    "import Augmentor\n",
    "\n",
    "#Data Augmentation\n",
    "from keras.preprocessing.image import ImageDataGenerator\n",
    "\n",
    "# Callbacks\n",
    "from tensorflow.keras import callbacks\n",
    "from tensorflow.keras.callbacks import EarlyStopping\n",
    "from tensorflow.keras.callbacks import ModelCheckpoint\n",
    "from tensorflow.keras.callbacks import ReduceLROnPlateau\n",
    "\n",
    "import keras\n",
    "from keras.models import Sequential\n",
    "from keras.layers import Dense, Activation, Dropout, Flatten, Conv2D, MaxPooling2D\n",
    "from keras.layers.normalization import BatchNormalization\n",
    "\n",
    "\n",
    "## RESNET50\n",
    "\n",
    "from keras.applications.resnet50 import preprocess_input\n",
    "from tensorflow.keras.applications.resnet50 import ResNet50\n",
    "\n",
    "\n",
    "### Efficient\n",
    "from tensorflow.keras.applications import EfficientNetB7\n",
    "\n",
    "from tensorflow.keras import models\n",
    "from tensorflow.keras import layers\n",
    "from tensorflow.keras import callbacks\n"
   ]
  },
  {
   "cell_type": "markdown",
   "metadata": {},
   "source": [
    "# 1- Import Images and Dataframe\n"
   ]
  },
  {
   "cell_type": "code",
   "execution_count": 2,
   "metadata": {},
   "outputs": [],
   "source": [
    "dataframe=pd.read_csv(\"Majority_Vote.csv\")"
   ]
  },
  {
   "cell_type": "code",
   "execution_count": 3,
   "metadata": {},
   "outputs": [],
   "source": [
    "os.chdir('../CNN_SpermCells')\n",
    "path = os.getcwd()\n",
    "files = os.listdir(path)"
   ]
  },
  {
   "cell_type": "code",
   "execution_count": 4,
   "metadata": {},
   "outputs": [
    {
     "data": {
      "text/plain": [
       "'/Users/joanarafael/Documentos/NOVA_IMS/Data Science/2S_DataScience/WorkGroup/Deep Learning/CNN_SpermCells'"
      ]
     },
     "execution_count": 4,
     "metadata": {},
     "output_type": "execute_result"
    }
   ],
   "source": [
    "path"
   ]
  },
  {
   "cell_type": "code",
   "execution_count": 11,
   "metadata": {
    "scrolled": false
   },
   "outputs": [
    {
     "name": "stdout",
     "output_type": "stream",
     "text": [
      "Images Normal: 3824\n",
      "Images Tapered: 281\n",
      "Images Pyriform: 133\n",
      "Images Amorphous: 708\n",
      "\n"
     ]
    }
   ],
   "source": [
    "#Count the number of images by class\n",
    "\n",
    "def fileCount(folder):\n",
    "    \"count the number of files in a directory\"\n",
    "\n",
    "    count = 0\n",
    "\n",
    "    for filename in os.listdir(folder):\n",
    "        path = os.path.join(folder, filename)\n",
    "\n",
    "        if os.path.isfile(path):\n",
    "            count += 1\n",
    "        elif os.path.isdir(path):\n",
    "            count += fileCount(path)\n",
    "\n",
    "    return count\n",
    "\n",
    "count_0 = fileCount(path+'/path/class0')\n",
    "count_1 = fileCount(path+'/path/class1')\n",
    "count_2 = fileCount(path+'/path/class2')\n",
    "count_3 = fileCount(path+'/path/class3')\n",
    "\n",
    "print(f'Images Normal: {count_0}\\n' +\n",
    "     f'Images Tapered: {count_1}\\n' +\n",
    "     f'Images Pyriform: {count_2}\\n' +\n",
    "     f'Images Amorphous: {count_3}\\n')"
   ]
  },
  {
   "cell_type": "markdown",
   "metadata": {},
   "source": [
    "# 2- Preprocessing"
   ]
  },
  {
   "cell_type": "markdown",
   "metadata": {},
   "source": [
    "###  2.1 DATA AUGMENTATION "
   ]
  },
  {
   "cell_type": "markdown",
   "metadata": {},
   "source": [
    "#### 2.1 Offline Data Augmentation\n",
    "\n",
    "Options are limited since we're working with microscopy data\n",
    "\n"
   ]
  },
  {
   "cell_type": "code",
   "execution_count": 14,
   "metadata": {
    "scrolled": true
   },
   "outputs": [
    {
     "name": "stderr",
     "output_type": "stream",
     "text": [
      "Executing Pipeline: 0 Samples [00:00, ? Samples/s]\n",
      "Executing Pipeline:   0%|          | 0/719 [00:00<?, ? Samples/s]"
     ]
    },
    {
     "name": "stdout",
     "output_type": "stream",
     "text": [
      "Initialised with 92 image(s) found.\n",
      "Output directory set to /Users/joanarafael/Documentos/NOVA_IMS/Data Science/2S_DataScience/WorkGroup/Deep Learning/CNN_SpermCells/path/train/class0/output.Initialised with 168 image(s) found.\n",
      "Output directory set to /Users/joanarafael/Documentos/NOVA_IMS/Data Science/2S_DataScience/WorkGroup/Deep Learning/CNN_SpermCells/path/train/class1/output.Initialised with 79 image(s) found.\n",
      "Output directory set to /Users/joanarafael/Documentos/NOVA_IMS/Data Science/2S_DataScience/WorkGroup/Deep Learning/CNN_SpermCells/path/train/class2/output.Initialised with 424 image(s) found.\n",
      "Output directory set to /Users/joanarafael/Documentos/NOVA_IMS/Data Science/2S_DataScience/WorkGroup/Deep Learning/CNN_SpermCells/path/train/class3/output."
     ]
    },
    {
     "name": "stderr",
     "output_type": "stream",
     "text": [
      "Processing <PIL.TiffImagePlugin.TiffImageFile image mode=L size=35x35 at 0x7FADFA2A8760>: 100%|██████████| 719/719 [00:12<00:00, 59.91 Samples/s]  \n",
      "Processing <PIL.Image.Image image mode=RGB size=131x131 at 0x7FADFA3DCEE0>: 100%|██████████| 867/867 [00:12<00:00, 70.59 Samples/s]                \n",
      "Processing <PIL.Image.Image image mode=L size=35x35 at 0x7FADBA9892B0>: 100%|██████████| 292/292 [00:05<00:00, 51.55 Samples/s]                    \n"
     ]
    }
   ],
   "source": [
    "# Define augmentation pipelines\n",
    "class_0 = Augmentor.Pipeline(path+'/path/train/class0')\n",
    "class_1 = Augmentor.Pipeline(path+'/path/train/class1')\n",
    "class_2 = Augmentor.Pipeline(path+'/path/train/class2')\n",
    "class_3 = Augmentor.Pipeline(path+'/path/train/class3')\n",
    "\n",
    "\n",
    "#rotate by a maximum of 90 degrees\n",
    "class_0.rotate(probability=0.7, max_left_rotation=25, max_right_rotation=25)\n",
    "class_1.rotate(probability=0.7, max_left_rotation=25, max_right_rotation=25)\n",
    "class_2.rotate(probability=0.7, max_left_rotation=25, max_right_rotation=25)\n",
    "class_3.rotate(probability=0.7, max_left_rotation=25, max_right_rotation=25)\n",
    "\n",
    "#mirroring, vertical or horizontal, randomly\n",
    "class_0.flip_random(probability=0.7)\n",
    "class_1.flip_random(probability=0.7)\n",
    "class_2.flip_random(probability=0.7)\n",
    "class_3.flip_random(probability=0.7)\n",
    "\n",
    "\n",
    "# Augment images to the same proportion as existing ones in class 4 (majority class - get to 1000 in each class)\n",
    "class_0.sample(6400 - count_0)\n",
    "class_1.sample(6400 - count_1)\n",
    "class_2.sample(6400 - count_2)\n",
    "class_3.sample(6400 - count_3)"
   ]
  },
  {
   "cell_type": "markdown",
   "metadata": {},
   "source": [
    "#### 2.2 Define Callbacks\n",
    "- Checkpoint\n",
    "- Early Stopping\n",
    "- Reduce Learning Rate\n",
    "- Timer"
   ]
  },
  {
   "cell_type": "code",
   "execution_count": 15,
   "metadata": {},
   "outputs": [],
   "source": [
    "checkpoint_filepath = path+'/Models/'\n",
    "\n",
    "reduce_lr = ReduceLROnPlateau(monitor='val_loss', factor=0.5, patience=5, min_lr=0, verbose = 1)\n",
    "\n",
    "es = EarlyStopping(monitor='val_loss', mode='min', verbose=1, patience=20)\n",
    "\n",
    "mc = ModelCheckpoint(\n",
    "    filepath=checkpoint_filepath,\n",
    "    verbose = 1,\n",
    "    monitor='val_accuracy',\n",
    "    mode='max',\n",
    "    save_best_only=True)\n",
    "\n",
    "\n",
    "class TimingCallback(keras.callbacks.Callback):\n",
    "    def __init__(self, logs={}):\n",
    "        self.logs=[]\n",
    "    def on_epoch_begin(self, epoch, logs={}):\n",
    "        self.starttime = timer()\n",
    "    def on_epoch_end(self, epoch, logs={}):\n",
    "        self.logs.append(timer()-self.starttime)\n",
    "\n",
    "cb = TimingCallback()\n"
   ]
  },
  {
   "cell_type": "markdown",
   "metadata": {},
   "source": [
    "## Models:\n",
    "- <a href='#1'>First Model</a>\n",
    "- <a href='#2'>Alex Net</a>\n",
    "- <a href='#3'>ResNet50</a>\n",
    "- <a href='#4'>EfficientNet B7</a>"
   ]
  },
  {
   "cell_type": "markdown",
   "metadata": {},
   "source": [
    "# 3. First Model \n",
    "<a id='1'></a> "
   ]
  },
  {
   "cell_type": "code",
   "execution_count": 16,
   "metadata": {},
   "outputs": [],
   "source": [
    "checkpoint_filepath = path+'/Models/model_HM.h5'"
   ]
  },
  {
   "cell_type": "markdown",
   "metadata": {},
   "source": [
    "#### 3.1 Preprocess input\n",
    "Online Data Augmentation  in GrayScale "
   ]
  },
  {
   "cell_type": "code",
   "execution_count": 17,
   "metadata": {},
   "outputs": [
    {
     "name": "stdout",
     "output_type": "stream",
     "text": [
      "Found 11217 images belonging to 4 classes.\n",
      "Found 256 images belonging to 4 classes.\n",
      "Found 257 images belonging to 4 classes.\n"
     ]
    }
   ],
   "source": [
    "\n",
    "cnn_train_datagen = ImageDataGenerator(rescale = 1./255,\n",
    "                                   rotation_range = 5,\n",
    "                                   width_shift_range = 0.1,\n",
    "                                   height_shift_range = 0.1, \n",
    "                                   vertical_flip = True,\n",
    "                                   horizontal_flip = True,\n",
    "                                   brightness_range=[0.2,1.5], \n",
    "                                   fill_mode='nearest',\n",
    "                                   zoom_range = 0.2,\n",
    "                                   ) \n",
    "\n",
    "cnn_val_datagen = ImageDataGenerator(rescale = 1./255)\n",
    "cnn_test_datagen = ImageDataGenerator(rescale = 1./255)\n",
    "\n",
    "#test different color maps -  class modes and cross validation types\n",
    "cnn_training = cnn_train_datagen.flow_from_directory(path+'/path/train',\n",
    "                                                 target_size = (32, 32),\n",
    "                                                 batch_size = 64,\n",
    "                                                 shuffle = True,\n",
    "                                                 class_mode=\"categorical\",\n",
    "                                                 color_mode = 'grayscale')\n",
    "\n",
    "cnn_val = cnn_val_datagen.flow_from_directory(path+'/path/val',\n",
    "                                            target_size = (32, 32),\n",
    "                                            batch_size = 64,\n",
    "                                            shuffle = True,\n",
    "                                            class_mode=\"categorical\",\n",
    "                                            color_mode = 'grayscale')\n",
    "\n",
    "cnn_test = cnn_test_datagen.flow_from_directory(path+'/path/test',\n",
    "                                            target_size = (32, 32),\n",
    "                                            batch_size = 1,\n",
    "                                            shuffle = True,\n",
    "                                            class_mode=\"categorical\",\n",
    "                                            color_mode = 'grayscale')"
   ]
  },
  {
   "cell_type": "markdown",
   "metadata": {},
   "source": [
    "#### 3.2 Build model"
   ]
  },
  {
   "cell_type": "code",
   "execution_count": 18,
   "metadata": {},
   "outputs": [],
   "source": [
    "\n",
    "cnn_model = Sequential()\n",
    "\n",
    "#convolutional layer with 32 3x3 filters - again, arbitrary\n",
    "\n",
    "\n",
    "cnn_model.add(Conv2D(filters=32, kernel_size=(3,3), padding = 'same', activation='relu')) \n",
    "cnn_model.add(BatchNormalization())\n",
    "\n",
    "#MaxPooling - takes the max value of each 2x2 pool in the feature map\n",
    "cnn_model.add(MaxPooling2D(pool_size=(2,2)))\n",
    "cnn_model.add(BatchNormalization())\n",
    "        \n",
    "#3rd convolution with 64 filters\n",
    "cnn_model.add(Conv2D(filters=64, kernel_size=(3,3),  padding = 'same', activation= 'relu'))\n",
    "cnn_model.add(BatchNormalization())\n",
    "        \n",
    "#4rd convolution with 128 filters\n",
    "cnn_model.add(Conv2D(filters=128, kernel_size=(3,3), padding = 'same', activation= 'relu'))\n",
    "cnn_model.add(BatchNormalization())\n",
    "              \n",
    "#Second MaxPool2D - to check with other options\n",
    "cnn_model.add(MaxPooling2D(pool_size=(2,2)))\n",
    "cnn_model.add(BatchNormalization())\n",
    "        \n",
    "#5th convolutional layer with 24 3x3 filters - again, arbitrary\n",
    "cnn_model.add(Conv2D(filters=32, kernel_size=(4,4), padding = 'same', activation='relu'))\n",
    "cnn_model.add(BatchNormalization())\n",
    "    \n",
    "\n",
    "#second convolution with 36 filters\n",
    "cnn_model.add(Conv2D(filters=64, kernel_size=(3,3), padding = 'same', activation= 'relu'))\n",
    "cnn_model.add(BatchNormalization())\n",
    "        \n",
    "cnn_model.add(Conv2D(filters=128, kernel_size=(3,3), padding = 'same', activation= 'relu'))\n",
    "cnn_model.add(BatchNormalization())\n",
    "        \n",
    "#Second MaxPool2D - to check with other options\n",
    "cnn_model.add(MaxPooling2D(pool_size=(2,2)))\n",
    "cnn_model.add(BatchNormalization())\n",
    "        \n",
    " #convolutional layer with 24 3x3 filters - again, arbitrary,\n",
    "cnn_model.add(Conv2D(filters=128, kernel_size=(4,4), padding = 'same', activation='relu'))\n",
    "cnn_model.add(BatchNormalization())\n",
    "        \n",
    "#second convolution with 36 filters\n",
    "cnn_model.add(Conv2D(filters=128, kernel_size=(3,3), padding = 'same', activation= 'relu'))\n",
    "cnn_model.add(BatchNormalization())\n",
    "        \n",
    "cnn_model.add(Conv2D(filters=128, kernel_size=(3,3), padding = 'same', activation= 'relu'))\n",
    "cnn_model.add(BatchNormalization())\n",
    "        \n",
    "#Second MaxPool2D - to check with other options\n",
    "cnn_model.add(MaxPooling2D(pool_size=(2,2)))\n",
    "cnn_model.add(BatchNormalization())\n",
    "        \n",
    "#the result of kthe CNN is then flattened and placed into the \n",
    "cnn_model.add(Flatten())\n",
    "        \n",
    "cnn_model.add(Dense(128, activation='relu'))\n",
    "cnn_model.add(BatchNormalization())\n",
    "\n",
    "#Add Dropout\n",
    "cnn_model.add(Dropout(0.4))\n",
    "cnn_model.add(Dense(256, activation='relu'))\n",
    "cnn_model.add(BatchNormalization())\n",
    "\n",
    "#final layer, is output, 1 out of 5 possible results\n",
    "#0 Normal, 1 Tapered, 2 Pyriform, 3 Amorphous\n",
    "cnn_model.add(Dense(4))\n",
    "              \n",
    "cnn_model.add(Activation('softmax'))\n",
    "              \n",
    "             "
   ]
  },
  {
   "cell_type": "markdown",
   "metadata": {},
   "source": [
    "#### 3.3 Compile model"
   ]
  },
  {
   "cell_type": "code",
   "execution_count": 19,
   "metadata": {},
   "outputs": [],
   "source": [
    "\n",
    "cnn_model.compile(optimizer=keras.optimizers.Adam(learning_rate=1e-3),\n",
    "              loss='categorical_crossentropy',\n",
    "              metrics=['accuracy'])"
   ]
  },
  {
   "cell_type": "markdown",
   "metadata": {},
   "source": [
    "#### 3.4 Fit model"
   ]
  },
  {
   "cell_type": "code",
   "execution_count": 20,
   "metadata": {},
   "outputs": [
    {
     "name": "stdout",
     "output_type": "stream",
     "text": [
      "176/176 [==============================] - 27s 145ms/step - loss: 1.4384 - accuracy: 0.4216 - val_loss: 2.0145 - val_accuracy: 0.2188\n",
      "\n",
      "Epoch 00001: val_accuracy improved from -inf to 0.21875, saving model to /Users/joanarafael/Documentos/NOVA_IMS/Data Science/2S_DataScience/WorkGroup/Deep Learning/CNN_SpermCells/Models/\n",
      "INFO:tensorflow:Assets written to: /Users/joanarafael/Documentos/NOVA_IMS/Data Science/2S_DataScience/WorkGroup/Deep Learning/CNN_SpermCells/Models/assets\n"
     ]
    },
    {
     "name": "stderr",
     "output_type": "stream",
     "text": [
      "INFO:tensorflow:Assets written to: /Users/joanarafael/Documentos/NOVA_IMS/Data Science/2S_DataScience/WorkGroup/Deep Learning/CNN_SpermCells/Models/assets\n"
     ]
    }
   ],
   "source": [
    "\n",
    "history = cnn_model.fit(cnn_training,\n",
    "        epochs=200, \n",
    "        validation_data=cnn_val,\n",
    "        verbose = 1, \n",
    "        callbacks = [mc, reduce_lr, es,cb])\n"
   ]
  },
  {
   "cell_type": "markdown",
   "metadata": {},
   "source": [
    "#### 3.5 Evaluate model"
   ]
  },
  {
   "cell_type": "code",
   "execution_count": 21,
   "metadata": {},
   "outputs": [
    {
     "name": "stdout",
     "output_type": "stream",
     "text": [
      "176/176 [==============================] - 12s 68ms/step - loss: 1.0373 - accuracy: 0.6140\n",
      "4/4 [==============================] - 0s 49ms/step - loss: 2.0145 - accuracy: 0.2188\n",
      "Train: 0.614, Val: 0.219\n"
     ]
    },
    {
     "data": {
      "image/png": "[encoded data removed]",
      "text/plain": [
       "<Figure size 432x288 with 1 Axes>"
      ]
     },
     "metadata": {},
     "output_type": "display_data"
    }
   ],
   "source": [
    "\n",
    "_, train_acc = cnn_model.evaluate(cnn_training, verbose=1)\n",
    "_, val_acc = cnn_model.evaluate(cnn_val, verbose=1)\n",
    "print('Train: %.3f, Val: %.3f' % (train_acc, val_acc))\n",
    "\n",
    "# plot training history\n",
    "plt.plot(history.history['loss'], label='train')\n",
    "plt.plot(history.history['val_loss'], label='val')\n",
    "plt.legend()\n",
    "plt.show()"
   ]
  },
  {
   "cell_type": "markdown",
   "metadata": {},
   "source": [
    "#### 3.6 Make Predictions"
   ]
  },
  {
   "cell_type": "code",
   "execution_count": 22,
   "metadata": {},
   "outputs": [
    {
     "name": "stdout",
     "output_type": "stream",
     "text": [
      "257/257 [==============================] - 1s 2ms/step\n"
     ]
    }
   ],
   "source": [
    "#get predicted probality\n",
    "prediction = cnn_model.predict(cnn_test,verbose=1)\n",
    "\n",
    "#Get class of prediction\n",
    "predicted_class = np.argmax(prediction,axis=1)\n",
    "\n",
    "#get trueclass\n",
    "true_classes = cnn_test.classes\n",
    "\n",
    "# get names of pictures\n",
    "filenames = cnn_test.filenames\n",
    "\n",
    "\n",
    "#store info in dataframe\n",
    "df_predictions = pd.DataFrame({'Filename': filenames, 'Label': true_classes, 'Test': predicted_class})\n",
    "\n",
    "#store info in dataframe\n",
    "cnn_model_predictions = pd.DataFrame({'Filename': filenames,'cnn_model': predicted_class})"
   ]
  },
  {
   "cell_type": "markdown",
   "metadata": {},
   "source": [
    "#### 3.7  Confusion matrix and classification report"
   ]
  },
  {
   "cell_type": "code",
   "execution_count": 23,
   "metadata": {},
   "outputs": [
    {
     "name": "stdout",
     "output_type": "stream",
     "text": [
      "[[  0  31   0   0]\n",
      " [  0  57   0   0]\n",
      " [  0  27   0   0]\n",
      " [  0 142   0   0]]\n",
      "              precision    recall  f1-score   support\n",
      "\n",
      "      class0       0.00      0.00      0.00        31\n",
      "      class1       0.22      1.00      0.36        57\n",
      "      class2       0.00      0.00      0.00        27\n",
      "      class3       0.00      0.00      0.00       142\n",
      "\n",
      "    accuracy                           0.22       257\n",
      "   macro avg       0.06      0.25      0.09       257\n",
      "weighted avg       0.05      0.22      0.08       257\n",
      "\n"
     ]
    },
    {
     "name": "stderr",
     "output_type": "stream",
     "text": [
      "/opt/anaconda3/lib/python3.8/site-packages/sklearn/metrics/_classification.py:1245: UndefinedMetricWarning: Precision and F-score are ill-defined and being set to 0.0 in labels with no predicted samples. Use `zero_division` parameter to control this behavior.\n",
      "  _warn_prf(average, modifier, msg_start, len(result))\n",
      "/opt/anaconda3/lib/python3.8/site-packages/sklearn/metrics/_classification.py:1245: UndefinedMetricWarning: Precision and F-score are ill-defined and being set to 0.0 in labels with no predicted samples. Use `zero_division` parameter to control this behavior.\n",
      "  _warn_prf(average, modifier, msg_start, len(result))\n",
      "/opt/anaconda3/lib/python3.8/site-packages/sklearn/metrics/_classification.py:1245: UndefinedMetricWarning: Precision and F-score are ill-defined and being set to 0.0 in labels with no predicted samples. Use `zero_division` parameter to control this behavior.\n",
      "  _warn_prf(average, modifier, msg_start, len(result))\n"
     ]
    }
   ],
   "source": [
    "class_labels = list(cnn_test.class_indices.keys())   \n",
    "\n",
    "print(confusion_matrix(true_classes, predicted_class))\n",
    "\n",
    "\n",
    "report = classification_report(true_classes, predicted_class, target_names=class_labels)\n",
    "print(report)"
   ]
  },
  {
   "cell_type": "markdown",
   "metadata": {},
   "source": [
    "<a id='2'></a> \n",
    "\n",
    "# 4. ALEX NET\n"
   ]
  },
  {
   "cell_type": "code",
   "execution_count": 24,
   "metadata": {},
   "outputs": [],
   "source": [
    "checkpoint_filepath = path+'/Models/AlexNet.h5'"
   ]
  },
  {
   "cell_type": "markdown",
   "metadata": {},
   "source": [
    "#### 4.1 Preprocess input\n",
    "Online Data Augmentation  in RGB"
   ]
  },
  {
   "cell_type": "code",
   "execution_count": 26,
   "metadata": {},
   "outputs": [
    {
     "name": "stdout",
     "output_type": "stream",
     "text": [
      "Found 11217 images belonging to 4 classes.\n",
      "Found 256 images belonging to 4 classes.\n",
      "Found 257 images belonging to 4 classes.\n"
     ]
    }
   ],
   "source": [
    "\n",
    "Alex_train_datagen = ImageDataGenerator(rescale = 1./255,\n",
    "                                   rotation_range = 5,\n",
    "                                   width_shift_range = 0.1,\n",
    "                                   height_shift_range = 0.1, \n",
    "                                   vertical_flip = True,\n",
    "                                   horizontal_flip = True,\n",
    "                                   brightness_range=[0.2,1.5], \n",
    "                                   fill_mode='nearest',\n",
    "                                   zoom_range = 0.2,\n",
    "                                   ) \n",
    "\n",
    "Alex_val_datagen = ImageDataGenerator(rescale = 1./255)\n",
    "Alex_test_datagen = ImageDataGenerator(rescale = 1./255)\n",
    "\n",
    "#test different color maps -  class modes and cross validation types\n",
    "Alex_training = Alex_train_datagen.flow_from_directory(path+'/path/train',\n",
    "                                                 target_size = (32, 32),\n",
    "                                                 batch_size = 64,\n",
    "                                                 shuffle = True,\n",
    "                                                 class_mode=\"categorical\",\n",
    "                                                 color_mode = 'rgb')\n",
    "\n",
    "Alex_val = Alex_val_datagen.flow_from_directory(path+'/path/val',\n",
    "                                            target_size = (32, 32),\n",
    "                                            batch_size = 64,\n",
    "                                            shuffle = True,\n",
    "                                            class_mode=\"categorical\",\n",
    "                                            color_mode = 'rgb')\n",
    "\n",
    "Alex_test = Alex_test_datagen.flow_from_directory(path+'/path/test',\n",
    "                                            target_size = (32, 32),\n",
    "                                            batch_size = 1,\n",
    "                                            shuffle = True,\n",
    "                                            class_mode=\"categorical\",\n",
    "                                            color_mode = 'rgb')"
   ]
  },
  {
   "cell_type": "markdown",
   "metadata": {},
   "source": [
    "#### 4.2 Build model  "
   ]
  },
  {
   "cell_type": "code",
   "execution_count": 27,
   "metadata": {
    "scrolled": true
   },
   "outputs": [
    {
     "name": "stdout",
     "output_type": "stream",
     "text": [
      "Model: \"sequential_1\"\n",
      "_________________________________________________________________\n",
      "Layer (type)                 Output Shape              Param #   \n",
      "=================================================================\n",
      "conv2d_9 (Conv2D)            (None, 8, 8, 96)          34944     \n",
      "_________________________________________________________________\n",
      "batch_normalization_15 (Batc (None, 8, 8, 96)          384       \n",
      "_________________________________________________________________\n",
      "activation_1 (Activation)    (None, 8, 8, 96)          0         \n",
      "_________________________________________________________________\n",
      "max_pooling2d_4 (MaxPooling2 (None, 4, 4, 96)          0         \n",
      "_________________________________________________________________\n",
      "conv2d_10 (Conv2D)           (None, 4, 4, 256)         614656    \n",
      "_________________________________________________________________\n",
      "batch_normalization_16 (Batc (None, 4, 4, 256)         1024      \n",
      "_________________________________________________________________\n",
      "activation_2 (Activation)    (None, 4, 4, 256)         0         \n",
      "_________________________________________________________________\n",
      "max_pooling2d_5 (MaxPooling2 (None, 2, 2, 256)         0         \n",
      "_________________________________________________________________\n",
      "conv2d_11 (Conv2D)           (None, 2, 2, 384)         885120    \n",
      "_________________________________________________________________\n",
      "batch_normalization_17 (Batc (None, 2, 2, 384)         1536      \n",
      "_________________________________________________________________\n",
      "activation_3 (Activation)    (None, 2, 2, 384)         0         \n",
      "_________________________________________________________________\n",
      "conv2d_12 (Conv2D)           (None, 2, 2, 384)         1327488   \n",
      "_________________________________________________________________\n",
      "batch_normalization_18 (Batc (None, 2, 2, 384)         1536      \n",
      "_________________________________________________________________\n",
      "activation_4 (Activation)    (None, 2, 2, 384)         0         \n",
      "_________________________________________________________________\n",
      "conv2d_13 (Conv2D)           (None, 2, 2, 256)         884992    \n",
      "_________________________________________________________________\n",
      "batch_normalization_19 (Batc (None, 2, 2, 256)         1024      \n",
      "_________________________________________________________________\n",
      "activation_5 (Activation)    (None, 2, 2, 256)         0         \n",
      "_________________________________________________________________\n",
      "max_pooling2d_6 (MaxPooling2 (None, 1, 1, 256)         0         \n",
      "_________________________________________________________________\n",
      "flatten_1 (Flatten)          (None, 256)               0         \n",
      "_________________________________________________________________\n",
      "dense_3 (Dense)              (None, 4096)              1052672   \n",
      "_________________________________________________________________\n",
      "batch_normalization_20 (Batc (None, 4096)              16384     \n",
      "_________________________________________________________________\n",
      "activation_6 (Activation)    (None, 4096)              0         \n",
      "_________________________________________________________________\n",
      "dropout_1 (Dropout)          (None, 4096)              0         \n",
      "_________________________________________________________________\n",
      "dense_4 (Dense)              (None, 4096)              16781312  \n",
      "_________________________________________________________________\n",
      "batch_normalization_21 (Batc (None, 4096)              16384     \n",
      "_________________________________________________________________\n",
      "activation_7 (Activation)    (None, 4096)              0         \n",
      "_________________________________________________________________\n",
      "dropout_2 (Dropout)          (None, 4096)              0         \n",
      "_________________________________________________________________\n",
      "dense_5 (Dense)              (None, 1000)              4097000   \n",
      "_________________________________________________________________\n",
      "batch_normalization_22 (Batc (None, 1000)              4000      \n",
      "_________________________________________________________________\n",
      "activation_8 (Activation)    (None, 1000)              0         \n",
      "_________________________________________________________________\n",
      "dropout_3 (Dropout)          (None, 1000)              0         \n",
      "_________________________________________________________________\n",
      "dense_6 (Dense)              (None, 4)                 4004      \n",
      "_________________________________________________________________\n",
      "batch_normalization_23 (Batc (None, 4)                 16        \n",
      "_________________________________________________________________\n",
      "activation_9 (Activation)    (None, 4)                 0         \n",
      "=================================================================\n",
      "Total params: 25,724,476\n",
      "Trainable params: 25,703,332\n",
      "Non-trainable params: 21,144\n",
      "_________________________________________________________________\n"
     ]
    }
   ],
   "source": [
    "\n",
    "#Instantiation\n",
    "AlexNet = Sequential()\n",
    "\n",
    "#1st Convolutional Layer\n",
    "AlexNet.add(Conv2D(filters=96, input_shape=(32,32,3), kernel_size=(11,11), strides=(4,4), padding='same'))\n",
    "AlexNet.add(BatchNormalization())\n",
    "AlexNet.add(Activation('relu'))\n",
    "AlexNet.add(MaxPooling2D(pool_size=(2,2), strides=(2,2), padding='same'))\n",
    "\n",
    "#2nd Convolutional Layer\n",
    "AlexNet.add(Conv2D(filters=256, kernel_size=(5, 5), strides=(1,1), padding='same'))\n",
    "AlexNet.add(BatchNormalization())\n",
    "AlexNet.add(Activation('relu'))\n",
    "AlexNet.add(MaxPooling2D(pool_size=(2,2), strides=(2,2), padding='same'))\n",
    "\n",
    "#3rd Convolutional Layer\n",
    "AlexNet.add(Conv2D(filters=384, kernel_size=(3,3), strides=(1,1), padding='same'))\n",
    "AlexNet.add(BatchNormalization())\n",
    "AlexNet.add(Activation('relu'))\n",
    "\n",
    "#4th Convolutional Layer\n",
    "AlexNet.add(Conv2D(filters=384, kernel_size=(3,3), strides=(1,1), padding='same'))\n",
    "AlexNet.add(BatchNormalization())\n",
    "AlexNet.add(Activation('relu'))\n",
    "\n",
    "#5th Convolutional Layer\n",
    "AlexNet.add(Conv2D(filters=256, kernel_size=(3,3), strides=(1,1), padding='same'))\n",
    "AlexNet.add(BatchNormalization())\n",
    "AlexNet.add(Activation('relu'))\n",
    "AlexNet.add(MaxPooling2D(pool_size=(2,2), strides=(2,2), padding='same'))\n",
    "\n",
    "#Passing it to a Fully Connected layer\n",
    "AlexNet.add(Flatten())\n",
    "\n",
    "# 1st Fully Connected Layer\n",
    "AlexNet.add(Dense(4096, input_shape=(32,32,3,)))\n",
    "AlexNet.add(BatchNormalization())\n",
    "AlexNet.add(Activation('relu'))\n",
    "\n",
    "# Add Dropout to prevent overfitting\n",
    "AlexNet.add(Dropout(0.4))\n",
    "\n",
    "#2nd Fully Connected Layer\n",
    "AlexNet.add(Dense(4096))\n",
    "AlexNet.add(BatchNormalization())\n",
    "AlexNet.add(Activation('relu'))\n",
    "\n",
    "#Add Dropout\n",
    "AlexNet.add(Dropout(0.4))\n",
    "\n",
    "#3rd Fully Connected Layer\n",
    "AlexNet.add(Dense(1000))\n",
    "AlexNet.add(BatchNormalization())\n",
    "AlexNet.add(Activation('relu'))\n",
    "#Add Dropout\n",
    "AlexNet.add(Dropout(0.4))\n",
    "\n",
    "#Output Layer\n",
    "AlexNet.add(Dense(4))\n",
    "AlexNet.add(BatchNormalization())\n",
    "AlexNet.add(Activation('softmax'))\n",
    "\n",
    "#Model Summary\n",
    "AlexNet.summary()"
   ]
  },
  {
   "cell_type": "markdown",
   "metadata": {},
   "source": [
    "#### 4.3 Compile model"
   ]
  },
  {
   "cell_type": "code",
   "execution_count": 28,
   "metadata": {},
   "outputs": [],
   "source": [
    "AlexNet.compile(loss = keras.losses.categorical_crossentropy, optimizer= 'adam', metrics=['accuracy'])"
   ]
  },
  {
   "cell_type": "markdown",
   "metadata": {},
   "source": [
    "#### 4.4 Fit model"
   ]
  },
  {
   "cell_type": "code",
   "execution_count": 29,
   "metadata": {},
   "outputs": [
    {
     "name": "stdout",
     "output_type": "stream",
     "text": [
      "176/176 [==============================] - 51s 279ms/step - loss: 1.3696 - accuracy: 0.3990 - val_loss: 1.6569 - val_accuracy: 0.1211\n",
      "\n",
      "Epoch 00001: val_accuracy did not improve from 0.21875\n"
     ]
    }
   ],
   "source": [
    "history = AlexNet.fit(Alex_training,\n",
    "        epochs=200, \n",
    "        validation_data=Alex_val,\n",
    "        verbose = 1, \n",
    "        callbacks = [mc, reduce_lr, es,cb])"
   ]
  },
  {
   "cell_type": "markdown",
   "metadata": {},
   "source": [
    "#### 4.5 Evaluate  model"
   ]
  },
  {
   "cell_type": "code",
   "execution_count": 30,
   "metadata": {},
   "outputs": [
    {
     "name": "stdout",
     "output_type": "stream",
     "text": [
      "176/176 [==============================] - 13s 72ms/step - loss: 1.6717 - accuracy: 0.2423\n",
      "4/4 [==============================] - 0s 41ms/step - loss: 1.6569 - accuracy: 0.1211\n",
      "Train: 0.242, Val: 0.121\n"
     ]
    },
    {
     "data": {
      "image/png": "[encoded data removed]",
      "text/plain": [
       "<Figure size 432x288 with 1 Axes>"
      ]
     },
     "metadata": {},
     "output_type": "display_data"
    }
   ],
   "source": [
    "_, train_acc = AlexNet.evaluate(Alex_training, verbose=1)\n",
    "_, val_acc = AlexNet.evaluate(Alex_val, verbose=1)\n",
    "print('Train: %.3f, Val: %.3f' % (train_acc, val_acc))\n",
    "\n",
    "# plot training history\n",
    "plt.plot(history.history['loss'], label='train')\n",
    "plt.plot(history.history['val_loss'], label='val')\n",
    "plt.legend()\n",
    "plt.show()"
   ]
  },
  {
   "cell_type": "code",
   "execution_count": 32,
   "metadata": {},
   "outputs": [
    {
     "name": "stdout",
     "output_type": "stream",
     "text": [
      "257/257 [==============================] - 2s 7ms/step - loss: 1.6697 - accuracy: 0.1206\n",
      "Test loss: 1.6696956157684326\n",
      "Test accuracy: 0.12062256783246994\n",
      "\n",
      "Time: 1.3651794827000003 min\n"
     ]
    }
   ],
   "source": [
    "test_loss, test_acc = AlexNet.evaluate(Alex_test)\n",
    "\n",
    "print('Test loss:', test_loss)\n",
    "print('Test accuracy:', test_acc)\n",
    "print(\"\\nTime:\",sum(cb.logs)/60,\"min\")"
   ]
  },
  {
   "cell_type": "markdown",
   "metadata": {},
   "source": [
    "#### 4.6 Make Predictions"
   ]
  },
  {
   "cell_type": "code",
   "execution_count": 33,
   "metadata": {},
   "outputs": [
    {
     "name": "stdout",
     "output_type": "stream",
     "text": [
      "257/257 [==============================] - 2s 7ms/step\n"
     ]
    }
   ],
   "source": [
    "#get predicted probality\n",
    "prediction = AlexNet.predict(Alex_test,verbose=1)\n",
    "\n",
    "#Get class of prediction\n",
    "predicted_class = np.argmax(prediction,axis=1)\n",
    "\n",
    "#get trueclass\n",
    "true_classes = Alex_test.classes\n",
    "\n",
    "# get names of pictures\n",
    "filenames = Alex_test.filenames\n",
    "\n",
    "#store info in dataframe\n",
    "alex_predictions = pd.DataFrame({'Filename': filenames,'AlexNet': predicted_class})"
   ]
  },
  {
   "cell_type": "code",
   "execution_count": 34,
   "metadata": {},
   "outputs": [],
   "source": [
    "#join prediction to dataframe\n",
    "df_predictions = df_predictions.merge(alex_predictions, on = 'Filename', how = 'inner')\n",
    "\n",
    "del alex_predictions"
   ]
  },
  {
   "cell_type": "code",
   "execution_count": 35,
   "metadata": {},
   "outputs": [
    {
     "data": {
      "text/html": [
       "<div>\n",
       "<style scoped>\n",
       "    .dataframe tbody tr th:only-of-type {\n",
       "        vertical-align: middle;\n",
       "    }\n",
       "\n",
       "    .dataframe tbody tr th {\n",
       "        vertical-align: top;\n",
       "    }\n",
       "\n",
       "    .dataframe thead th {\n",
       "        text-align: right;\n",
       "    }\n",
       "</style>\n",
       "<table border=\"1\" class=\"dataframe\">\n",
       "  <thead>\n",
       "    <tr style=\"text-align: right;\">\n",
       "      <th></th>\n",
       "      <th>Filename</th>\n",
       "      <th>Label</th>\n",
       "      <th>Test</th>\n",
       "      <th>AlexNet</th>\n",
       "    </tr>\n",
       "  </thead>\n",
       "  <tbody>\n",
       "    <tr>\n",
       "      <th>0</th>\n",
       "      <td>class0/ch00_p1-pl2-sample10-sperm4.tif</td>\n",
       "      <td>0</td>\n",
       "      <td>1</td>\n",
       "      <td>0</td>\n",
       "    </tr>\n",
       "    <tr>\n",
       "      <th>1</th>\n",
       "      <td>class0/ch00_p1-pl2-sample12-sperm13.tif</td>\n",
       "      <td>0</td>\n",
       "      <td>1</td>\n",
       "      <td>0</td>\n",
       "    </tr>\n",
       "    <tr>\n",
       "      <th>2</th>\n",
       "      <td>class0/ch00_p1-pl2-sample14-sperm9.tif</td>\n",
       "      <td>0</td>\n",
       "      <td>1</td>\n",
       "      <td>0</td>\n",
       "    </tr>\n",
       "    <tr>\n",
       "      <th>3</th>\n",
       "      <td>class0/ch00_p1-pl2-sample19-sperm7.tif</td>\n",
       "      <td>0</td>\n",
       "      <td>1</td>\n",
       "      <td>0</td>\n",
       "    </tr>\n",
       "    <tr>\n",
       "      <th>4</th>\n",
       "      <td>class0/ch00_p1-pl2-sample3-sperm12.tif</td>\n",
       "      <td>0</td>\n",
       "      <td>1</td>\n",
       "      <td>0</td>\n",
       "    </tr>\n",
       "    <tr>\n",
       "      <th>...</th>\n",
       "      <td>...</td>\n",
       "      <td>...</td>\n",
       "      <td>...</td>\n",
       "      <td>...</td>\n",
       "    </tr>\n",
       "    <tr>\n",
       "      <th>252</th>\n",
       "      <td>class3/image_006.BMP</td>\n",
       "      <td>3</td>\n",
       "      <td>1</td>\n",
       "      <td>0</td>\n",
       "    </tr>\n",
       "    <tr>\n",
       "      <th>253</th>\n",
       "      <td>class3/image_007.BMP</td>\n",
       "      <td>3</td>\n",
       "      <td>1</td>\n",
       "      <td>0</td>\n",
       "    </tr>\n",
       "    <tr>\n",
       "      <th>254</th>\n",
       "      <td>class3/image_008.BMP</td>\n",
       "      <td>3</td>\n",
       "      <td>1</td>\n",
       "      <td>0</td>\n",
       "    </tr>\n",
       "    <tr>\n",
       "      <th>255</th>\n",
       "      <td>class3/image_012.BMP</td>\n",
       "      <td>3</td>\n",
       "      <td>1</td>\n",
       "      <td>0</td>\n",
       "    </tr>\n",
       "    <tr>\n",
       "      <th>256</th>\n",
       "      <td>class3/image_041.BMP</td>\n",
       "      <td>3</td>\n",
       "      <td>1</td>\n",
       "      <td>0</td>\n",
       "    </tr>\n",
       "  </tbody>\n",
       "</table>\n",
       "<p>257 rows × 4 columns</p>\n",
       "</div>"
      ],
      "text/plain": [
       "                                    Filename  Label  Test  AlexNet\n",
       "0     class0/ch00_p1-pl2-sample10-sperm4.tif      0     1        0\n",
       "1    class0/ch00_p1-pl2-sample12-sperm13.tif      0     1        0\n",
       "2     class0/ch00_p1-pl2-sample14-sperm9.tif      0     1        0\n",
       "3     class0/ch00_p1-pl2-sample19-sperm7.tif      0     1        0\n",
       "4     class0/ch00_p1-pl2-sample3-sperm12.tif      0     1        0\n",
       "..                                       ...    ...   ...      ...\n",
       "252                     class3/image_006.BMP      3     1        0\n",
       "253                     class3/image_007.BMP      3     1        0\n",
       "254                     class3/image_008.BMP      3     1        0\n",
       "255                     class3/image_012.BMP      3     1        0\n",
       "256                     class3/image_041.BMP      3     1        0\n",
       "\n",
       "[257 rows x 4 columns]"
      ]
     },
     "execution_count": 35,
     "metadata": {},
     "output_type": "execute_result"
    }
   ],
   "source": [
    "df_predictions"
   ]
  },
  {
   "cell_type": "markdown",
   "metadata": {},
   "source": [
    "#### 4.7  Confusion matrix and classification report"
   ]
  },
  {
   "cell_type": "code",
   "execution_count": 36,
   "metadata": {},
   "outputs": [
    {
     "name": "stdout",
     "output_type": "stream",
     "text": [
      "[[ 31   0   0   0]\n",
      " [ 57   0   0   0]\n",
      " [ 27   0   0   0]\n",
      " [142   0   0   0]]\n",
      "              precision    recall  f1-score   support\n",
      "\n",
      "      class0       0.12      1.00      0.22        31\n",
      "      class1       0.00      0.00      0.00        57\n",
      "      class2       0.00      0.00      0.00        27\n",
      "      class3       0.00      0.00      0.00       142\n",
      "\n",
      "    accuracy                           0.12       257\n",
      "   macro avg       0.03      0.25      0.05       257\n",
      "weighted avg       0.01      0.12      0.03       257\n",
      "\n"
     ]
    },
    {
     "name": "stderr",
     "output_type": "stream",
     "text": [
      "/opt/anaconda3/lib/python3.8/site-packages/sklearn/metrics/_classification.py:1245: UndefinedMetricWarning: Precision and F-score are ill-defined and being set to 0.0 in labels with no predicted samples. Use `zero_division` parameter to control this behavior.\n",
      "  _warn_prf(average, modifier, msg_start, len(result))\n",
      "/opt/anaconda3/lib/python3.8/site-packages/sklearn/metrics/_classification.py:1245: UndefinedMetricWarning: Precision and F-score are ill-defined and being set to 0.0 in labels with no predicted samples. Use `zero_division` parameter to control this behavior.\n",
      "  _warn_prf(average, modifier, msg_start, len(result))\n",
      "/opt/anaconda3/lib/python3.8/site-packages/sklearn/metrics/_classification.py:1245: UndefinedMetricWarning: Precision and F-score are ill-defined and being set to 0.0 in labels with no predicted samples. Use `zero_division` parameter to control this behavior.\n",
      "  _warn_prf(average, modifier, msg_start, len(result))\n"
     ]
    }
   ],
   "source": [
    "\n",
    "class_labels = list(Alex_test.class_indices.keys())   \n",
    "\n",
    "print(confusion_matrix(true_classes, predicted_class))\n",
    "\n",
    "report = classification_report(true_classes, predicted_class, target_names=class_labels)\n",
    "print(report)"
   ]
  },
  {
   "cell_type": "markdown",
   "metadata": {},
   "source": [
    "<a id='3'></a> \n",
    "# 5. RESNET50 \n",
    "\n"
   ]
  },
  {
   "cell_type": "code",
   "execution_count": 37,
   "metadata": {},
   "outputs": [],
   "source": [
    "checkpoint_filepath = path+'/Models/ResNet50.h5'"
   ]
  },
  {
   "cell_type": "markdown",
   "metadata": {},
   "source": [
    "#### 5.1 Preprocess input\n",
    "resnet50 requires its own preprocessing "
   ]
  },
  {
   "cell_type": "code",
   "execution_count": 38,
   "metadata": {},
   "outputs": [
    {
     "name": "stdout",
     "output_type": "stream",
     "text": [
      "Found 11217 images belonging to 4 classes.\n",
      "Found 256 images belonging to 4 classes.\n",
      "Found 257 images belonging to 4 classes.\n"
     ]
    }
   ],
   "source": [
    "\n",
    "\n",
    "#to play around with these\n",
    "res_train_datagen = ImageDataGenerator(rescale = 1./255,\n",
    "                                   preprocessing_function=preprocess_input,\n",
    "                                   rotation_range = 5,\n",
    "                                   width_shift_range = 0.06, \n",
    "                                   height_shift_range = 0.06, \n",
    "                                   vertical_flip = True,\n",
    "                                   horizontal_flip = True,\n",
    "                                   brightness_range=[0.2,1.2], \n",
    "                                   fill_mode='nearest',\n",
    "                                   zoom_range = 0.2,\n",
    "                                   ) \n",
    "\n",
    "res_val_datagen = ImageDataGenerator(rescale = 1./255, preprocessing_function=preprocess_input)\n",
    "res_test_datagen = ImageDataGenerator(rescale = 1./255, preprocessing_function=preprocess_input)\n",
    "\n",
    "#test different color maps -  class modes and cross validation types\n",
    "res_train = res_train_datagen.flow_from_directory(path+'/path/train',\n",
    "                                                 target_size = (32, 32),\n",
    "                                                 batch_size = 64,\n",
    "                                                 class_mode=\"categorical\",\n",
    "                                                 color_mode = 'rgb',\n",
    "                                                 shuffle = True)\n",
    "\n",
    "res_val = res_val_datagen.flow_from_directory(path+'/path/val',\n",
    "                                            target_size = (32, 32),\n",
    "                                            batch_size = 64,\n",
    "                                            class_mode=\"categorical\",\n",
    "                                            color_mode = 'rgb',\n",
    "                                            shuffle = True)\n",
    "\n",
    "res_test = res_test_datagen.flow_from_directory(path+'/path/test',\n",
    "                                            target_size = (32, 32),\n",
    "                                            batch_size = 1,\n",
    "                                            class_mode=\"categorical\",\n",
    "                                            color_mode = 'rgb',\n",
    "                                            shuffle = True)"
   ]
  },
  {
   "cell_type": "markdown",
   "metadata": {},
   "source": [
    "#### 5.2 Build model "
   ]
  },
  {
   "cell_type": "code",
   "execution_count": 39,
   "metadata": {},
   "outputs": [
    {
     "name": "stdout",
     "output_type": "stream",
     "text": [
      "Model: \"sequential_2\"\n",
      "_________________________________________________________________\n",
      "Layer (type)                 Output Shape              Param #   \n",
      "=================================================================\n",
      "resnet50 (Functional)        (None, 1, 1, 2048)        23587712  \n",
      "_________________________________________________________________\n",
      "flatten_2 (Flatten)          (None, 2048)              0         \n",
      "_________________________________________________________________\n",
      "dense_7 (Dense)              (None, 4096)              8392704   \n",
      "_________________________________________________________________\n",
      "batch_normalization_24 (Batc (None, 4096)              16384     \n",
      "_________________________________________________________________\n",
      "activation_10 (Activation)   (None, 4096)              0         \n",
      "_________________________________________________________________\n",
      "dropout_4 (Dropout)          (None, 4096)              0         \n",
      "_________________________________________________________________\n",
      "dense_8 (Dense)              (None, 4096)              16781312  \n",
      "_________________________________________________________________\n",
      "batch_normalization_25 (Batc (None, 4096)              16384     \n",
      "_________________________________________________________________\n",
      "activation_11 (Activation)   (None, 4096)              0         \n",
      "_________________________________________________________________\n",
      "dropout_5 (Dropout)          (None, 4096)              0         \n",
      "_________________________________________________________________\n",
      "dense_9 (Dense)              (None, 4)                 16388     \n",
      "=================================================================\n",
      "Total params: 48,810,884\n",
      "Trainable params: 25,206,788\n",
      "Non-trainable params: 23,604,096\n",
      "_________________________________________________________________\n"
     ]
    }
   ],
   "source": [
    "res50model = Sequential()\n",
    "\n",
    "#Layer 1: RES50 without top layer\n",
    "res50model.add(ResNet50(weights='imagenet', input_shape= (32,32,3),\n",
    "                 include_top = False, classes=5,))\n",
    "\n",
    "#Passing it to a Fully Connected layer\n",
    "res50model.add(Flatten())\n",
    "# 1st Fully Connected Layer\n",
    "res50model.add(Dense(4096, input_shape=(32,32,3,)))\n",
    "res50model.add(BatchNormalization())\n",
    "res50model.add(Activation('relu'))\n",
    "# Add Dropout to prevent overfitting\n",
    "res50model.add(Dropout(0.4))\n",
    "\n",
    "#2nd Fully Connected Layer\n",
    "res50model.add(Dense(4096))\n",
    "res50model.add(BatchNormalization())\n",
    "res50model.add(Activation('relu'))\n",
    "\n",
    "#Add Dropout\n",
    "res50model.add(Dropout(0.4))\n",
    "\n",
    "res50model.add(Dense(4, activation = 'softmax'))\n",
    "\n",
    "#freeze layers in resnet - weights obtained with IMAGENET challenge, we only train final layer\n",
    "res50model.layers[0].trainable = False\n",
    "\n",
    "res50model.summary()"
   ]
  },
  {
   "cell_type": "markdown",
   "metadata": {},
   "source": [
    "#### 5.3 Compile the model"
   ]
  },
  {
   "cell_type": "code",
   "execution_count": 41,
   "metadata": {},
   "outputs": [],
   "source": [
    "res50model.compile(loss = keras.losses.categorical_crossentropy, optimizer= 'adam', metrics=['accuracy'])"
   ]
  },
  {
   "cell_type": "markdown",
   "metadata": {},
   "source": [
    "#### 5.4 Fit model"
   ]
  },
  {
   "cell_type": "code",
   "execution_count": 42,
   "metadata": {
    "scrolled": true
   },
   "outputs": [
    {
     "name": "stdout",
     "output_type": "stream",
     "text": [
      "176/176 [==============================] - 29s 154ms/step - loss: 1.6878 - accuracy: 0.5380 - val_loss: 10.4327 - val_accuracy: 0.2188\n",
      "\n",
      "Epoch 00001: val_accuracy did not improve from 0.21875\n"
     ]
    }
   ],
   "source": [
    "history = res50model.fit(res_train,\n",
    "        epochs=200, \n",
    "        validation_data=res_val,\n",
    "        verbose = 1, \n",
    "        callbacks = [mc, reduce_lr, es,cb])"
   ]
  },
  {
   "cell_type": "markdown",
   "metadata": {},
   "source": [
    "#### 5.5 Evaluate the model"
   ]
  },
  {
   "cell_type": "code",
   "execution_count": 67,
   "metadata": {},
   "outputs": [
    {
     "name": "stdout",
     "output_type": "stream",
     "text": [
      "176/176 [==============================] - 19s 105ms/step - loss: 5.0203 - accuracy: 0.6140\n",
      "4/4 [==============================] - 0s 87ms/step - loss: 10.4327 - accuracy: 0.2188\n",
      "Train: 0.614, Val: 0.219\n"
     ]
    },
    {
     "data": {
      "image/png": "[encoded data removed]",
      "text/plain": [
       "<Figure size 432x288 with 1 Axes>"
      ]
     },
     "metadata": {},
     "output_type": "display_data"
    },
    {
     "name": "stdout",
     "output_type": "stream",
     "text": [
      "257/257 [==============================] - 4s 15ms/step - loss: 10.4947 - accuracy: 0.2218\n",
      "Test loss: 10.494688034057617\n",
      "Test accuracy: 0.2217898815870285\n",
      "\n",
      "Time: 2.628499286733336 min\n"
     ]
    }
   ],
   "source": [
    "\n",
    "_, train_acc = res50model.evaluate(res_train, verbose=1)\n",
    "_, val_acc = res50model.evaluate(res_val, verbose=1)\n",
    "print('Train: %.3f, Val: %.3f' % (train_acc, val_acc))\n",
    "\n",
    "# plot training history\n",
    "plt.plot(history.history['loss'], label='train')\n",
    "plt.plot(history.history['val_loss'], label='val')\n",
    "plt.legend()\n",
    "plt.show()\n",
    "\n",
    "test_loss, test_acc = res50model.evaluate(res_test)\n",
    "\n",
    "print('Test loss:', test_loss)\n",
    "print('Test accuracy:', test_acc)\n",
    "\n",
    "print(\"\\nTime:\",sum(cb.logs)/60,\"min\")"
   ]
  },
  {
   "cell_type": "markdown",
   "metadata": {},
   "source": [
    "#### 5.6 Make Predictions"
   ]
  },
  {
   "cell_type": "code",
   "execution_count": 44,
   "metadata": {},
   "outputs": [
    {
     "name": "stdout",
     "output_type": "stream",
     "text": [
      "257/257 [==============================] - 4s 14ms/step\n"
     ]
    }
   ],
   "source": [
    "#get predicted probality\n",
    "prediction = res50model.predict(res_test,verbose=1)\n",
    "\n",
    "#Get class of prediction\n",
    "predicted_class = np.argmax(prediction,axis=1)\n",
    "\n",
    "#get trueclass\n",
    "true_classes = res_test.classes\n",
    "\n",
    "# get names of pictures\n",
    "filenames = res_test.filenames\n",
    "\n",
    "\n",
    "#store info in dataframe\n",
    "df_predictions = pd.DataFrame({'Filename': filenames, 'Label': true_classes, 'Test': predicted_class})\n",
    "\n",
    "#store info in dataframe\n",
    "res50_prebuilt_predictions = pd.DataFrame({'Filename': filenames,'ResNet50': predicted_class})"
   ]
  },
  {
   "cell_type": "markdown",
   "metadata": {},
   "source": [
    "#### 5.7  Confusion matrix and classification report"
   ]
  },
  {
   "cell_type": "code",
   "execution_count": 45,
   "metadata": {},
   "outputs": [
    {
     "name": "stdout",
     "output_type": "stream",
     "text": [
      "[[  0  31   0   0]\n",
      " [  0  57   0   0]\n",
      " [  0  27   0   0]\n",
      " [  0 142   0   0]]\n",
      "              precision    recall  f1-score   support\n",
      "\n",
      "      class0       0.00      0.00      0.00        31\n",
      "      class1       0.22      1.00      0.36        57\n",
      "      class2       0.00      0.00      0.00        27\n",
      "      class3       0.00      0.00      0.00       142\n",
      "\n",
      "    accuracy                           0.22       257\n",
      "   macro avg       0.06      0.25      0.09       257\n",
      "weighted avg       0.05      0.22      0.08       257\n",
      "\n"
     ]
    },
    {
     "name": "stderr",
     "output_type": "stream",
     "text": [
      "/opt/anaconda3/lib/python3.8/site-packages/sklearn/metrics/_classification.py:1245: UndefinedMetricWarning: Precision and F-score are ill-defined and being set to 0.0 in labels with no predicted samples. Use `zero_division` parameter to control this behavior.\n",
      "  _warn_prf(average, modifier, msg_start, len(result))\n",
      "/opt/anaconda3/lib/python3.8/site-packages/sklearn/metrics/_classification.py:1245: UndefinedMetricWarning: Precision and F-score are ill-defined and being set to 0.0 in labels with no predicted samples. Use `zero_division` parameter to control this behavior.\n",
      "  _warn_prf(average, modifier, msg_start, len(result))\n",
      "/opt/anaconda3/lib/python3.8/site-packages/sklearn/metrics/_classification.py:1245: UndefinedMetricWarning: Precision and F-score are ill-defined and being set to 0.0 in labels with no predicted samples. Use `zero_division` parameter to control this behavior.\n",
      "  _warn_prf(average, modifier, msg_start, len(result))\n"
     ]
    }
   ],
   "source": [
    "\n",
    "class_labels = list(res_test.class_indices.keys())   \n",
    "\n",
    "print(confusion_matrix(true_classes, predicted_class))\n",
    "\n",
    "report = classification_report(true_classes, predicted_class, target_names=class_labels)\n",
    "print(report)"
   ]
  },
  {
   "cell_type": "markdown",
   "metadata": {},
   "source": [
    "<a id='4'></a> \n",
    "\n",
    "# 6. EFFICIENT NET B7\n",
    "\n",
    "\n"
   ]
  },
  {
   "cell_type": "code",
   "execution_count": 46,
   "metadata": {},
   "outputs": [],
   "source": [
    "checkpoint_filepath = path+'/Models/EffnetB7.h5'"
   ]
  },
  {
   "cell_type": "markdown",
   "metadata": {},
   "source": [
    "#### 6.1 Preprocess input\n",
    " "
   ]
  },
  {
   "cell_type": "code",
   "execution_count": 47,
   "metadata": {},
   "outputs": [
    {
     "name": "stdout",
     "output_type": "stream",
     "text": [
      "Found 11217 images belonging to 4 classes.\n",
      "Found 256 images belonging to 4 classes.\n",
      "Found 257 images belonging to 4 classes.\n"
     ]
    }
   ],
   "source": [
    "#to play around with these\n",
    "EffNetB7train_datagen = ImageDataGenerator(rescale = 1./255,\n",
    "                                   rotation_range = 5,\n",
    "                                   width_shift_range = 0.06, \n",
    "                                   height_shift_range = 0.06, \n",
    "                                   vertical_flip = True,\n",
    "                                   horizontal_flip = True,\n",
    "                                   brightness_range=[0.2,1.2], \n",
    "                                   fill_mode='nearest',\n",
    "                                   zoom_range = 0.2,\n",
    "                                   ) \n",
    "\n",
    "EffNetB7val_datagen = ImageDataGenerator(rescale = 1./255, preprocessing_function=preprocess_input)\n",
    "EffNetB7test_datagen = ImageDataGenerator(rescale = 1./255, preprocessing_function=preprocess_input)\n",
    "\n",
    "#test different color maps -  class modes and cross validation types\n",
    "EffNetB7_train = EffNetB7train_datagen.flow_from_directory(path+'/path/train',\n",
    "                                                 target_size = (32, 32),\n",
    "                                                 batch_size = 64,\n",
    "                                                 class_mode=\"categorical\",\n",
    "                                                 color_mode = 'rgb',\n",
    "                                                 shuffle = True)\n",
    "\n",
    "EffNetB7_val = EffNetB7val_datagen.flow_from_directory(path+'/path/val',\n",
    "                                            target_size = (32, 32),\n",
    "                                            batch_size = 64,\n",
    "                                            class_mode=\"categorical\",\n",
    "                                            color_mode = 'rgb',\n",
    "                                            shuffle = True)\n",
    "\n",
    "EffNetB7_test = EffNetB7test_datagen.flow_from_directory(path+'/path/test',\n",
    "                                            target_size = (32, 32),\n",
    "                                            batch_size = 1,\n",
    "                                            class_mode=\"categorical\",\n",
    "                                            color_mode = 'rgb',\n",
    "                                            shuffle = True)"
   ]
  },
  {
   "cell_type": "markdown",
   "metadata": {},
   "source": [
    "#### 6.1Build model"
   ]
  },
  {
   "cell_type": "code",
   "execution_count": 48,
   "metadata": {},
   "outputs": [],
   "source": [
    "dropout_rate = 0.2\n",
    "\n",
    "EffNetB7model = Sequential()\n",
    "\n",
    "#Layer 1\n",
    "\n",
    "EffNetB7model.add(EfficientNetB7(weights='imagenet', input_shape= (32,32,3),\n",
    "                      include_top = False, classes=4))\n",
    "EffNetB7model.add(layers.GlobalMaxPooling2D(name=\"gap\")) ### mais eficiente qie o flatten\n",
    "#EffNetB7.add(Flatten())\n",
    "if dropout_rate > 0:\n",
    "    EffNetB7model.add(Dropout(dropout_rate, name=\"dropout_out\"))\n",
    "\n",
    "EffNetB7model.add(Dense(4, activation=\"softmax\"))\n",
    "\n",
    "EffNetB7model.layers[0].trainable = False"
   ]
  },
  {
   "cell_type": "code",
   "execution_count": 49,
   "metadata": {
    "scrolled": true
   },
   "outputs": [
    {
     "name": "stdout",
     "output_type": "stream",
     "text": [
      "Model: \"sequential_3\"\n",
      "_________________________________________________________________\n",
      "Layer (type)                 Output Shape              Param #   \n",
      "=================================================================\n",
      "efficientnetb7 (Functional)  (None, 1, 1, 2560)        64097687  \n",
      "_________________________________________________________________\n",
      "gap (GlobalMaxPooling2D)     (None, 2560)              0         \n",
      "_________________________________________________________________\n",
      "dropout_out (Dropout)        (None, 2560)              0         \n",
      "_________________________________________________________________\n",
      "dense_10 (Dense)             (None, 4)                 10244     \n",
      "=================================================================\n",
      "Total params: 64,107,931\n",
      "Trainable params: 10,244\n",
      "Non-trainable params: 64,097,687\n",
      "_________________________________________________________________\n"
     ]
    }
   ],
   "source": [
    "EffNetB7model.summary()"
   ]
  },
  {
   "cell_type": "markdown",
   "metadata": {},
   "source": [
    "#### 6.2 Compile the model"
   ]
  },
  {
   "cell_type": "code",
   "execution_count": 50,
   "metadata": {},
   "outputs": [],
   "source": [
    "EffNetB7model.compile(loss = keras.losses.categorical_crossentropy, optimizer= 'adam', metrics=['accuracy'])"
   ]
  },
  {
   "cell_type": "markdown",
   "metadata": {},
   "source": [
    "#### 6.3 Fit model"
   ]
  },
  {
   "cell_type": "code",
   "execution_count": 51,
   "metadata": {},
   "outputs": [
    {
     "name": "stdout",
     "output_type": "stream",
     "text": [
      "176/176 [==============================] - 47s 198ms/step - loss: 2.5272 - accuracy: 0.4648 - val_loss: 2.1559 - val_accuracy: 0.1211\n"
     ]
    }
   ],
   "source": [
    "EffNet_history = EffNetB7model.fit(EffNetB7_train,\n",
    "        epochs=200,\n",
    "        validation_data=EffNetB7_val,\n",
    "        verbose = 1, \n",
    "        validation_steps = len(EffNetB7_val),\n",
    "        callbacks = [reduce_lr,cb,es])"
   ]
  },
  {
   "cell_type": "markdown",
   "metadata": {},
   "source": [
    "#### 6.4 Evaluate the model"
   ]
  },
  {
   "cell_type": "code",
   "execution_count": 54,
   "metadata": {},
   "outputs": [
    {
     "name": "stdout",
     "output_type": "stream",
     "text": [
      "176/176 [==============================] - 28s 161ms/step - loss: 1.2382 - accuracy: 0.2379\n",
      "4/4 [==============================] - 1s 154ms/step - loss: 2.1559 - accuracy: 0.1211\n",
      "Train: 0.238, Val: 0.121\n"
     ]
    },
    {
     "data": {
      "image/png": "[encoded data removed]",
      "text/plain": [
       "<Figure size 432x288 with 1 Axes>"
      ]
     },
     "metadata": {},
     "output_type": "display_data"
    }
   ],
   "source": [
    "# evaluate the model\n",
    "_, train_acc = EffNetB7model.evaluate(EffNetB7_train, verbose=1)\n",
    "_, val_acc = EffNetB7model.evaluate(EffNetB7_val, verbose=1)\n",
    "print('Train: %.3f, Val: %.3f' % (train_acc, val_acc))\n",
    "\n",
    "# plot training history\n",
    "plt.plot(EffNet_history.history['loss'], label='train')\n",
    "plt.plot(EffNet_history.history['val_loss'], label='val')\n",
    "plt.legend()\n",
    "plt.show()\n",
    "\n"
   ]
  },
  {
   "cell_type": "code",
   "execution_count": 56,
   "metadata": {},
   "outputs": [
    {
     "name": "stdout",
     "output_type": "stream",
     "text": [
      "257/257 [==============================] - 7s 25ms/step - loss: 2.1510 - accuracy: 0.1206\n",
      "Test loss: 2.150968313217163\n",
      "Test accuracy: 0.12062256783246994\n",
      "\n",
      "Time: 2.628499286733336 min\n"
     ]
    }
   ],
   "source": [
    "test_loss, test_acc = EffNetB7model.evaluate(EffNetB7_test)\n",
    "\n",
    "print('Test loss:', test_loss)\n",
    "print('Test accuracy:', test_acc)\n",
    "print(\"\\nTime:\",sum(cb.logs)/60,\"min\")"
   ]
  },
  {
   "cell_type": "markdown",
   "metadata": {},
   "source": [
    "#### 6.5 Make Predictions"
   ]
  },
  {
   "cell_type": "code",
   "execution_count": 61,
   "metadata": {},
   "outputs": [
    {
     "name": "stdout",
     "output_type": "stream",
     "text": [
      "257/257 [==============================] - 6s 24ms/step\n"
     ]
    }
   ],
   "source": [
    "#get predicted probality\n",
    "prediction = EffNetB7model.predict(EffNetB7_test,verbose=1)\n",
    "\n",
    "#Get class of prediction\n",
    "predicted_class = np.argmax(prediction,axis=1)\n",
    "\n",
    "#get trueclass\n",
    "true_classes = EffNetB7_test.classes\n",
    "\n",
    "# get names of pictures\n",
    "filenames = EffNetB7_test.filenames\n",
    "\n",
    "#store info in dataframe\n",
    "EffNetB7_predictions = pd.DataFrame({'Filename': filenames,'EffNetB7': predicted_class})"
   ]
  },
  {
   "cell_type": "code",
   "execution_count": 62,
   "metadata": {},
   "outputs": [],
   "source": [
    "#join prediction to dataframe\n",
    "df_predictions = df_predictions.merge(EffNetB7_predictions, on = 'Filename', how = 'inner')\n",
    "\n",
    "del EffNetB7_predictions"
   ]
  },
  {
   "cell_type": "code",
   "execution_count": 63,
   "metadata": {},
   "outputs": [
    {
     "data": {
      "text/html": [
       "<div>\n",
       "<style scoped>\n",
       "    .dataframe tbody tr th:only-of-type {\n",
       "        vertical-align: middle;\n",
       "    }\n",
       "\n",
       "    .dataframe tbody tr th {\n",
       "        vertical-align: top;\n",
       "    }\n",
       "\n",
       "    .dataframe thead th {\n",
       "        text-align: right;\n",
       "    }\n",
       "</style>\n",
       "<table border=\"1\" class=\"dataframe\">\n",
       "  <thead>\n",
       "    <tr style=\"text-align: right;\">\n",
       "      <th></th>\n",
       "      <th>Filename</th>\n",
       "      <th>Label</th>\n",
       "      <th>Test</th>\n",
       "      <th>EffNetB7</th>\n",
       "    </tr>\n",
       "  </thead>\n",
       "  <tbody>\n",
       "    <tr>\n",
       "      <th>0</th>\n",
       "      <td>class0/ch00_p1-pl2-sample10-sperm4.tif</td>\n",
       "      <td>0</td>\n",
       "      <td>1</td>\n",
       "      <td>0</td>\n",
       "    </tr>\n",
       "    <tr>\n",
       "      <th>1</th>\n",
       "      <td>class0/ch00_p1-pl2-sample12-sperm13.tif</td>\n",
       "      <td>0</td>\n",
       "      <td>1</td>\n",
       "      <td>0</td>\n",
       "    </tr>\n",
       "    <tr>\n",
       "      <th>2</th>\n",
       "      <td>class0/ch00_p1-pl2-sample14-sperm9.tif</td>\n",
       "      <td>0</td>\n",
       "      <td>1</td>\n",
       "      <td>0</td>\n",
       "    </tr>\n",
       "    <tr>\n",
       "      <th>3</th>\n",
       "      <td>class0/ch00_p1-pl2-sample19-sperm7.tif</td>\n",
       "      <td>0</td>\n",
       "      <td>1</td>\n",
       "      <td>0</td>\n",
       "    </tr>\n",
       "    <tr>\n",
       "      <th>4</th>\n",
       "      <td>class0/ch00_p1-pl2-sample3-sperm12.tif</td>\n",
       "      <td>0</td>\n",
       "      <td>1</td>\n",
       "      <td>0</td>\n",
       "    </tr>\n",
       "    <tr>\n",
       "      <th>...</th>\n",
       "      <td>...</td>\n",
       "      <td>...</td>\n",
       "      <td>...</td>\n",
       "      <td>...</td>\n",
       "    </tr>\n",
       "    <tr>\n",
       "      <th>252</th>\n",
       "      <td>class3/image_006.BMP</td>\n",
       "      <td>3</td>\n",
       "      <td>1</td>\n",
       "      <td>0</td>\n",
       "    </tr>\n",
       "    <tr>\n",
       "      <th>253</th>\n",
       "      <td>class3/image_007.BMP</td>\n",
       "      <td>3</td>\n",
       "      <td>1</td>\n",
       "      <td>0</td>\n",
       "    </tr>\n",
       "    <tr>\n",
       "      <th>254</th>\n",
       "      <td>class3/image_008.BMP</td>\n",
       "      <td>3</td>\n",
       "      <td>1</td>\n",
       "      <td>0</td>\n",
       "    </tr>\n",
       "    <tr>\n",
       "      <th>255</th>\n",
       "      <td>class3/image_012.BMP</td>\n",
       "      <td>3</td>\n",
       "      <td>1</td>\n",
       "      <td>0</td>\n",
       "    </tr>\n",
       "    <tr>\n",
       "      <th>256</th>\n",
       "      <td>class3/image_041.BMP</td>\n",
       "      <td>3</td>\n",
       "      <td>1</td>\n",
       "      <td>0</td>\n",
       "    </tr>\n",
       "  </tbody>\n",
       "</table>\n",
       "<p>257 rows × 4 columns</p>\n",
       "</div>"
      ],
      "text/plain": [
       "                                    Filename  Label  Test  EffNetB7\n",
       "0     class0/ch00_p1-pl2-sample10-sperm4.tif      0     1         0\n",
       "1    class0/ch00_p1-pl2-sample12-sperm13.tif      0     1         0\n",
       "2     class0/ch00_p1-pl2-sample14-sperm9.tif      0     1         0\n",
       "3     class0/ch00_p1-pl2-sample19-sperm7.tif      0     1         0\n",
       "4     class0/ch00_p1-pl2-sample3-sperm12.tif      0     1         0\n",
       "..                                       ...    ...   ...       ...\n",
       "252                     class3/image_006.BMP      3     1         0\n",
       "253                     class3/image_007.BMP      3     1         0\n",
       "254                     class3/image_008.BMP      3     1         0\n",
       "255                     class3/image_012.BMP      3     1         0\n",
       "256                     class3/image_041.BMP      3     1         0\n",
       "\n",
       "[257 rows x 4 columns]"
      ]
     },
     "execution_count": 63,
     "metadata": {},
     "output_type": "execute_result"
    }
   ],
   "source": [
    "df_predictions"
   ]
  },
  {
   "cell_type": "markdown",
   "metadata": {},
   "source": [
    "#### 6.6 Confusion matrix and classification report"
   ]
  },
  {
   "cell_type": "code",
   "execution_count": 65,
   "metadata": {},
   "outputs": [
    {
     "name": "stdout",
     "output_type": "stream",
     "text": [
      "[[ 31   0   0   0]\n",
      " [ 57   0   0   0]\n",
      " [ 27   0   0   0]\n",
      " [142   0   0   0]]\n",
      "              precision    recall  f1-score   support\n",
      "\n",
      "      class0       0.12      1.00      0.22        31\n",
      "      class1       0.00      0.00      0.00        57\n",
      "      class2       0.00      0.00      0.00        27\n",
      "      class3       0.00      0.00      0.00       142\n",
      "\n",
      "    accuracy                           0.12       257\n",
      "   macro avg       0.03      0.25      0.05       257\n",
      "weighted avg       0.01      0.12      0.03       257\n",
      "\n"
     ]
    },
    {
     "name": "stderr",
     "output_type": "stream",
     "text": [
      "/opt/anaconda3/lib/python3.8/site-packages/sklearn/metrics/_classification.py:1245: UndefinedMetricWarning: Precision and F-score are ill-defined and being set to 0.0 in labels with no predicted samples. Use `zero_division` parameter to control this behavior.\n",
      "  _warn_prf(average, modifier, msg_start, len(result))\n",
      "/opt/anaconda3/lib/python3.8/site-packages/sklearn/metrics/_classification.py:1245: UndefinedMetricWarning: Precision and F-score are ill-defined and being set to 0.0 in labels with no predicted samples. Use `zero_division` parameter to control this behavior.\n",
      "  _warn_prf(average, modifier, msg_start, len(result))\n",
      "/opt/anaconda3/lib/python3.8/site-packages/sklearn/metrics/_classification.py:1245: UndefinedMetricWarning: Precision and F-score are ill-defined and being set to 0.0 in labels with no predicted samples. Use `zero_division` parameter to control this behavior.\n",
      "  _warn_prf(average, modifier, msg_start, len(result))\n"
     ]
    }
   ],
   "source": [
    "\n",
    "class_labels = list(EffNetB7_test.class_indices.keys())   \n",
    "\n",
    "print(confusion_matrix(true_classes, predicted_class))\n",
    "\n",
    "\n",
    "report = classification_report(true_classes, predicted_class, target_names=class_labels)\n",
    "print(report)"
   ]
  },
  {
   "cell_type": "code",
   "execution_count": null,
   "metadata": {},
   "outputs": [],
   "source": []
  },
  {
   "cell_type": "code",
   "execution_count": null,
   "metadata": {},
   "outputs": [],
   "source": []
  },
  {
   "cell_type": "code",
   "execution_count": null,
   "metadata": {},
   "outputs": [],
   "source": []
  },
  {
   "cell_type": "code",
   "execution_count": null,
   "metadata": {},
   "outputs": [],
   "source": []
  },
  {
   "cell_type": "code",
   "execution_count": null,
   "metadata": {},
   "outputs": [],
   "source": []
  }
 ],
 "metadata": {
  "kernelspec": {
   "display_name": "Python 3",
   "language": "python",
   "name": "python3"
  },
  "language_info": {
   "codemirror_mode": {
    "name": "ipython",
    "version": 3
   },
   "file_extension": ".py",
   "mimetype": "text/x-python",
   "name": "python",
   "nbconvert_exporter": "python",
   "pygments_lexer": "ipython3",
   "version": "3.8.5"
  }
 },
 "nbformat": 4,
 "nbformat_minor": 4
}
